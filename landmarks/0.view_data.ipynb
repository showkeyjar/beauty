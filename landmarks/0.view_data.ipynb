{
 "cells": [
  {
   "cell_type": "code",
   "execution_count": 19,
   "metadata": {
    "pycharm": {
     "is_executing": false
    }
   },
   "outputs": [],
   "source": [
    "import dill\n",
    "import numpy as np\n",
    "import pandas as pd\n",
    "import pandas_profiling"
   ]
  },
  {
   "cell_type": "code",
   "execution_count": 3,
   "metadata": {
    "pycharm": {
     "is_executing": false
    }
   },
   "outputs": [],
   "source": [
    "df_features = pd.read_csv('../data/face/features.csv')"
   ]
  },
  {
   "cell_type": "code",
   "execution_count": 4,
   "outputs": [
    {
     "data": {
      "text/plain": "Index(['Unnamed: 0', '0_10_x', '0_10_y', '0_11_x', '0_11_y', '0_12_x',\n       '0_12_y', '0_13_x', '0_13_y', '0_14_x',\n       ...\n       'skin_23', 'skin_24', 'skin_25', 'skin_3', 'skin_4', 'skin_5', 'skin_6',\n       'skin_7', 'skin_8', 'skin_9'],\n      dtype='object', length=4584)"
     },
     "metadata": {},
     "output_type": "execute_result",
     "execution_count": 4
    }
   ],
   "source": [
    "\n",
    "df_features.columns"
   ],
   "metadata": {
    "collapsed": false,
    "pycharm": {
     "name": "#%%\n",
     "is_executing": false
    }
   }
  },
  {
   "cell_type": "code",
   "execution_count": 5,
   "outputs": [
    {
     "data": {
      "text/plain": "0          G:/data/SCUT-FBP5500_v2/Images\\AF1.jpg\n1         G:/data/SCUT-FBP5500_v2/Images\\AF10.jpg\n2        G:/data/SCUT-FBP5500_v2/Images\\AF100.jpg\n3       G:/data/SCUT-FBP5500_v2/Images\\AF1000.jpg\n4       G:/data/SCUT-FBP5500_v2/Images\\AF1001.jpg\n                          ...                    \n1995     G:/data/SCUT-FBP5500_v2/Images\\AF995.jpg\n1996     G:/data/SCUT-FBP5500_v2/Images\\AF996.jpg\n1997     G:/data/SCUT-FBP5500_v2/Images\\AF997.jpg\n1998     G:/data/SCUT-FBP5500_v2/Images\\AF998.jpg\n1999     G:/data/SCUT-FBP5500_v2/Images\\AF999.jpg\nName: image_index, Length: 2000, dtype: object"
     },
     "metadata": {},
     "output_type": "execute_result",
     "execution_count": 5
    }
   ],
   "source": [
    "df_features['image_index']"
   ],
   "metadata": {
    "collapsed": false,
    "pycharm": {
     "name": "#%%\n",
     "is_executing": false
    }
   }
  },
  {
   "cell_type": "code",
   "execution_count": 2,
   "outputs": [],
   "source": [
    "df_input = pd.read_csv('../data/face/df_input.csv')\n",
    "\n"
   ],
   "metadata": {
    "collapsed": false,
    "pycharm": {
     "name": "#%%\n",
     "is_executing": false
    }
   }
  },
  {
   "cell_type": "code",
   "execution_count": 3,
   "outputs": [],
   "source": [
    "df_input.dropna(inplace=True)"
   ],
   "metadata": {
    "collapsed": false,
    "pycharm": {
     "name": "#%%\n",
     "is_executing": false
    }
   }
  },
  {
   "cell_type": "code",
   "execution_count": 4,
   "outputs": [
    {
     "data": {
      "text/plain": "<bound method NDFrame.head of       Unnamed: 0        file    Rating    0_10_x    0_10_y    0_11_x  \\\n0              0     AF1.jpg  2.333333  0.719807  0.640777  0.806763   \n1              1    AF10.jpg  3.433333  0.685990  0.655340  0.768116   \n2              2   AF100.jpg  2.900000  0.719807  0.650485  0.806763   \n3              3  AF1000.jpg  3.966667  0.676329  0.596774  0.734300   \n4              4  AF1001.jpg  3.733333  0.748387  0.800000  0.845161   \n...          ...         ...       ...       ...       ...       ...   \n1995        1995   AF995.jpg  3.016667  0.753623  0.626214  0.840580   \n1996        1996   AF996.jpg  3.366667  0.637681  0.645161  0.710145   \n1997        1997   AF997.jpg  3.733333  0.700483  0.635922  0.782609   \n1998        1998   AF998.jpg  3.350000  0.838710  0.819355  0.935484   \n1999        1999   AF999.jpg  3.500000  0.761290  0.812903  0.851613   \n\n        0_11_y    0_12_x    0_12_y    0_13_x  ...   skin_23   skin_24  \\\n0     0.553398  0.864734  0.451456  0.898551  ...  0.000000  0.919048   \n1     0.577670  0.835749  0.490291  0.879227  ...  0.000000  0.895238   \n2     0.582524  0.874396  0.495146  0.903382  ...  0.000000  0.564286   \n3     0.516129  0.777778  0.408602  0.806763  ...  0.000000  0.615984   \n4     0.696774  0.929032  0.587097  0.987097  ...  0.015151  0.150135   \n...        ...       ...       ...       ...  ...       ...       ...   \n1995  0.543689  0.903382  0.446602  0.932367  ...  0.000000  0.547619   \n1996  0.564516  0.777778  0.478495  0.821256  ...  0.000000  0.468393   \n1997  0.558252  0.840580  0.461165  0.874396  ...  0.000000  0.621429   \n1998  0.716129  1.019355  0.593548  1.077419  ...  0.010697  0.134152   \n1999  0.716129  0.941935  0.600000  1.000000  ...  0.009906  0.183392   \n\n       skin_25    skin_3    skin_4    skin_5    skin_6    skin_7    skin_8  \\\n0     0.009524  0.002381  0.000000  0.000000  0.000000  0.000000  0.000000   \n1     0.021429  0.000000  0.000000  0.000000  0.000000  0.000000  0.000000   \n2     0.214286  0.019048  0.040476  0.002381  0.002381  0.002381  0.000000   \n3     0.163743  0.031189  0.010304  0.002506  0.002506  0.000557  0.001949   \n4     0.388845  0.013985  0.014776  0.016067  0.017107  0.015775  0.015734   \n...        ...       ...       ...       ...       ...       ...       ...   \n1995  0.216667  0.021429  0.028571  0.026190  0.014286  0.004762  0.000000   \n1996  0.146756  0.024227  0.032860  0.026177  0.028126  0.016708  0.013367   \n1997  0.200000  0.030952  0.007143  0.002381  0.004762  0.000000  0.000000   \n1998  0.305848  0.016857  0.017107  0.015359  0.017815  0.021270  0.021103   \n1999  0.332945  0.012237  0.011904  0.013278  0.014984  0.018522  0.018855   \n\n        skin_9  \n0     0.000000  \n1     0.000000  \n2     0.002381  \n3     0.001949  \n4     0.018023  \n...        ...  \n1995  0.000000  \n1996  0.012810  \n1997  0.000000  \n1998  0.024766  \n1999  0.023184  \n\n[1906 rows x 4585 columns]>"
     },
     "metadata": {},
     "output_type": "execute_result",
     "execution_count": 4
    }
   ],
   "source": [
    "df_input.head"
   ],
   "metadata": {
    "collapsed": false,
    "pycharm": {
     "name": "#%%\n",
     "is_executing": false
    }
   }
  },
  {
   "cell_type": "code",
   "execution_count": 24,
   "outputs": [
    {
     "traceback": [
      "\u001b[1;31m---------------------------------------------------------------------------\u001b[0m",
      "\u001b[1;31mKeyError\u001b[0m                                  Traceback (most recent call last)",
      "\u001b[1;32m<ipython-input-24-eafde9149c5c>\u001b[0m in \u001b[0;36m<module>\u001b[1;34m\u001b[0m\n\u001b[1;32m----> 1\u001b[1;33m \u001b[0mdf_input\u001b[0m\u001b[1;33m.\u001b[0m\u001b[0mdrop\u001b[0m\u001b[1;33m(\u001b[0m\u001b[1;33m[\u001b[0m\u001b[1;34m'Unnamed: 0'\u001b[0m\u001b[1;33m,\u001b[0m \u001b[1;34m'file'\u001b[0m\u001b[1;33m]\u001b[0m\u001b[1;33m,\u001b[0m\u001b[0maxis\u001b[0m\u001b[1;33m=\u001b[0m\u001b[1;36m1\u001b[0m\u001b[1;33m,\u001b[0m\u001b[0minplace\u001b[0m\u001b[1;33m=\u001b[0m\u001b[1;32mTrue\u001b[0m\u001b[1;33m)\u001b[0m\u001b[1;33m\u001b[0m\u001b[1;33m\u001b[0m\u001b[0m\n\u001b[0m\u001b[0;32m      2\u001b[0m \u001b[0mdf_input\u001b[0m\u001b[1;33m.\u001b[0m\u001b[0mdropna\u001b[0m\u001b[1;33m(\u001b[0m\u001b[0maxis\u001b[0m\u001b[1;33m=\u001b[0m\u001b[1;36m0\u001b[0m\u001b[1;33m,\u001b[0m \u001b[0minplace\u001b[0m\u001b[1;33m=\u001b[0m\u001b[1;32mTrue\u001b[0m\u001b[1;33m)\u001b[0m\u001b[1;33m\u001b[0m\u001b[1;33m\u001b[0m\u001b[0m\n\u001b[0;32m      3\u001b[0m \u001b[1;33m\u001b[0m\u001b[0m\n\u001b[0;32m      4\u001b[0m \u001b[1;33m\u001b[0m\u001b[0m\n",
      "\u001b[1;32mF:\\Anaconda3\\envs\\face\\lib\\site-packages\\pandas\\core\\frame.py\u001b[0m in \u001b[0;36mdrop\u001b[1;34m(self, labels, axis, index, columns, level, inplace, errors)\u001b[0m\n\u001b[0;32m   3995\u001b[0m             \u001b[0mlevel\u001b[0m\u001b[1;33m=\u001b[0m\u001b[0mlevel\u001b[0m\u001b[1;33m,\u001b[0m\u001b[1;33m\u001b[0m\u001b[1;33m\u001b[0m\u001b[0m\n\u001b[0;32m   3996\u001b[0m             \u001b[0minplace\u001b[0m\u001b[1;33m=\u001b[0m\u001b[0minplace\u001b[0m\u001b[1;33m,\u001b[0m\u001b[1;33m\u001b[0m\u001b[1;33m\u001b[0m\u001b[0m\n\u001b[1;32m-> 3997\u001b[1;33m             \u001b[0merrors\u001b[0m\u001b[1;33m=\u001b[0m\u001b[0merrors\u001b[0m\u001b[1;33m,\u001b[0m\u001b[1;33m\u001b[0m\u001b[1;33m\u001b[0m\u001b[0m\n\u001b[0m\u001b[0;32m   3998\u001b[0m         )\n\u001b[0;32m   3999\u001b[0m \u001b[1;33m\u001b[0m\u001b[0m\n",
      "\u001b[1;32mF:\\Anaconda3\\envs\\face\\lib\\site-packages\\pandas\\core\\generic.py\u001b[0m in \u001b[0;36mdrop\u001b[1;34m(self, labels, axis, index, columns, level, inplace, errors)\u001b[0m\n\u001b[0;32m   3934\u001b[0m         \u001b[1;32mfor\u001b[0m \u001b[0maxis\u001b[0m\u001b[1;33m,\u001b[0m \u001b[0mlabels\u001b[0m \u001b[1;32min\u001b[0m \u001b[0maxes\u001b[0m\u001b[1;33m.\u001b[0m\u001b[0mitems\u001b[0m\u001b[1;33m(\u001b[0m\u001b[1;33m)\u001b[0m\u001b[1;33m:\u001b[0m\u001b[1;33m\u001b[0m\u001b[1;33m\u001b[0m\u001b[0m\n\u001b[0;32m   3935\u001b[0m             \u001b[1;32mif\u001b[0m \u001b[0mlabels\u001b[0m \u001b[1;32mis\u001b[0m \u001b[1;32mnot\u001b[0m \u001b[1;32mNone\u001b[0m\u001b[1;33m:\u001b[0m\u001b[1;33m\u001b[0m\u001b[1;33m\u001b[0m\u001b[0m\n\u001b[1;32m-> 3936\u001b[1;33m                 \u001b[0mobj\u001b[0m \u001b[1;33m=\u001b[0m \u001b[0mobj\u001b[0m\u001b[1;33m.\u001b[0m\u001b[0m_drop_axis\u001b[0m\u001b[1;33m(\u001b[0m\u001b[0mlabels\u001b[0m\u001b[1;33m,\u001b[0m \u001b[0maxis\u001b[0m\u001b[1;33m,\u001b[0m \u001b[0mlevel\u001b[0m\u001b[1;33m=\u001b[0m\u001b[0mlevel\u001b[0m\u001b[1;33m,\u001b[0m \u001b[0merrors\u001b[0m\u001b[1;33m=\u001b[0m\u001b[0merrors\u001b[0m\u001b[1;33m)\u001b[0m\u001b[1;33m\u001b[0m\u001b[1;33m\u001b[0m\u001b[0m\n\u001b[0m\u001b[0;32m   3937\u001b[0m \u001b[1;33m\u001b[0m\u001b[0m\n\u001b[0;32m   3938\u001b[0m         \u001b[1;32mif\u001b[0m \u001b[0minplace\u001b[0m\u001b[1;33m:\u001b[0m\u001b[1;33m\u001b[0m\u001b[1;33m\u001b[0m\u001b[0m\n",
      "\u001b[1;32mF:\\Anaconda3\\envs\\face\\lib\\site-packages\\pandas\\core\\generic.py\u001b[0m in \u001b[0;36m_drop_axis\u001b[1;34m(self, labels, axis, level, errors)\u001b[0m\n\u001b[0;32m   3968\u001b[0m                 \u001b[0mnew_axis\u001b[0m \u001b[1;33m=\u001b[0m \u001b[0maxis\u001b[0m\u001b[1;33m.\u001b[0m\u001b[0mdrop\u001b[0m\u001b[1;33m(\u001b[0m\u001b[0mlabels\u001b[0m\u001b[1;33m,\u001b[0m \u001b[0mlevel\u001b[0m\u001b[1;33m=\u001b[0m\u001b[0mlevel\u001b[0m\u001b[1;33m,\u001b[0m \u001b[0merrors\u001b[0m\u001b[1;33m=\u001b[0m\u001b[0merrors\u001b[0m\u001b[1;33m)\u001b[0m\u001b[1;33m\u001b[0m\u001b[1;33m\u001b[0m\u001b[0m\n\u001b[0;32m   3969\u001b[0m             \u001b[1;32melse\u001b[0m\u001b[1;33m:\u001b[0m\u001b[1;33m\u001b[0m\u001b[1;33m\u001b[0m\u001b[0m\n\u001b[1;32m-> 3970\u001b[1;33m                 \u001b[0mnew_axis\u001b[0m \u001b[1;33m=\u001b[0m \u001b[0maxis\u001b[0m\u001b[1;33m.\u001b[0m\u001b[0mdrop\u001b[0m\u001b[1;33m(\u001b[0m\u001b[0mlabels\u001b[0m\u001b[1;33m,\u001b[0m \u001b[0merrors\u001b[0m\u001b[1;33m=\u001b[0m\u001b[0merrors\u001b[0m\u001b[1;33m)\u001b[0m\u001b[1;33m\u001b[0m\u001b[1;33m\u001b[0m\u001b[0m\n\u001b[0m\u001b[0;32m   3971\u001b[0m             \u001b[0mresult\u001b[0m \u001b[1;33m=\u001b[0m \u001b[0mself\u001b[0m\u001b[1;33m.\u001b[0m\u001b[0mreindex\u001b[0m\u001b[1;33m(\u001b[0m\u001b[1;33m**\u001b[0m\u001b[1;33m{\u001b[0m\u001b[0maxis_name\u001b[0m\u001b[1;33m:\u001b[0m \u001b[0mnew_axis\u001b[0m\u001b[1;33m}\u001b[0m\u001b[1;33m)\u001b[0m\u001b[1;33m\u001b[0m\u001b[1;33m\u001b[0m\u001b[0m\n\u001b[0;32m   3972\u001b[0m \u001b[1;33m\u001b[0m\u001b[0m\n",
      "\u001b[1;32mF:\\Anaconda3\\envs\\face\\lib\\site-packages\\pandas\\core\\indexes\\base.py\u001b[0m in \u001b[0;36mdrop\u001b[1;34m(self, labels, errors)\u001b[0m\n\u001b[0;32m   5015\u001b[0m         \u001b[1;32mif\u001b[0m \u001b[0mmask\u001b[0m\u001b[1;33m.\u001b[0m\u001b[0many\u001b[0m\u001b[1;33m(\u001b[0m\u001b[1;33m)\u001b[0m\u001b[1;33m:\u001b[0m\u001b[1;33m\u001b[0m\u001b[1;33m\u001b[0m\u001b[0m\n\u001b[0;32m   5016\u001b[0m             \u001b[1;32mif\u001b[0m \u001b[0merrors\u001b[0m \u001b[1;33m!=\u001b[0m \u001b[1;34m\"ignore\"\u001b[0m\u001b[1;33m:\u001b[0m\u001b[1;33m\u001b[0m\u001b[1;33m\u001b[0m\u001b[0m\n\u001b[1;32m-> 5017\u001b[1;33m                 \u001b[1;32mraise\u001b[0m \u001b[0mKeyError\u001b[0m\u001b[1;33m(\u001b[0m\u001b[1;34mf\"{labels[mask]} not found in axis\"\u001b[0m\u001b[1;33m)\u001b[0m\u001b[1;33m\u001b[0m\u001b[1;33m\u001b[0m\u001b[0m\n\u001b[0m\u001b[0;32m   5018\u001b[0m             \u001b[0mindexer\u001b[0m \u001b[1;33m=\u001b[0m \u001b[0mindexer\u001b[0m\u001b[1;33m[\u001b[0m\u001b[1;33m~\u001b[0m\u001b[0mmask\u001b[0m\u001b[1;33m]\u001b[0m\u001b[1;33m\u001b[0m\u001b[1;33m\u001b[0m\u001b[0m\n\u001b[0;32m   5019\u001b[0m         \u001b[1;32mreturn\u001b[0m \u001b[0mself\u001b[0m\u001b[1;33m.\u001b[0m\u001b[0mdelete\u001b[0m\u001b[1;33m(\u001b[0m\u001b[0mindexer\u001b[0m\u001b[1;33m)\u001b[0m\u001b[1;33m\u001b[0m\u001b[1;33m\u001b[0m\u001b[0m\n",
      "\u001b[1;31mKeyError\u001b[0m: \"['Unnamed: 0' 'file'] not found in axis\""
     ],
     "ename": "KeyError",
     "evalue": "\"['Unnamed: 0' 'file'] not found in axis\"",
     "output_type": "error"
    }
   ],
   "source": [
    "df_input.drop(['Unnamed: 0', 'file'],axis=1,inplace=True)\n",
    "df_input.dropna(axis=0, inplace=True)\n"
   ],
   "metadata": {
    "collapsed": false,
    "pycharm": {
     "name": "#%%\n",
     "is_executing": false
    }
   }
  },
  {
   "cell_type": "code",
   "execution_count": 12,
   "outputs": [
    {
     "data": {
      "text/plain": "<matplotlib.axes._subplots.AxesSubplot at 0xfabd668>"
     },
     "metadata": {},
     "output_type": "execute_result",
     "execution_count": 12
    },
    {
     "data": {
      "text/plain": "<Figure size 576x396 with 1 Axes>",
      "image/png": "[encoded data removed]"
     },
     "metadata": {},
     "output_type": "display_data"
    }
   ],
   "source": [
    "df_input['0_10_x'].hist()\n"
   ],
   "metadata": {
    "collapsed": false,
    "pycharm": {
     "name": "#%%\n",
     "is_executing": false
    }
   }
  },
  {
   "cell_type": "code",
   "execution_count": null,
   "outputs": [],
   "source": [
    "df_input.profile_report()\n",
    "\n"
   ],
   "metadata": {
    "collapsed": false,
    "pycharm": {
     "name": "#%%\n",
     "is_executing": true
    }
   }
  },
  {
   "cell_type": "code",
   "execution_count": 7,
   "outputs": [
    {
     "name": "stdout",
     "text": [
      "<class 'pandas.core.frame.DataFrame'>\n",
      "Int64Index: 1906 entries, 0 to 1999\n",
      "Columns: 4583 entries, Rating to skin_9\n",
      "dtypes: float64(4583)\n",
      "memory usage: 66.7 MB\n"
     ],
     "output_type": "stream"
    }
   ],
   "source": [
    "df_input.info()\n",
    "\n"
   ],
   "metadata": {
    "collapsed": false,
    "pycharm": {
     "name": "#%%\n",
     "is_executing": false
    }
   }
  },
  {
   "cell_type": "code",
   "execution_count": 11,
   "outputs": [
    {
     "data": {
      "text/plain": "Index(['Rating', '0_10_x', '0_10_y', '0_11_x', '0_11_y', '0_12_x', '0_12_y',\n       '0_13_x', '0_13_y', '0_14_x',\n       ...\n       'skin_23', 'skin_24', 'skin_25', 'skin_3', 'skin_4', 'skin_5', 'skin_6',\n       'skin_7', 'skin_8', 'skin_9'],\n      dtype='object', length=4583)"
     },
     "metadata": {},
     "output_type": "execute_result",
     "execution_count": 11
    }
   ],
   "source": [
    "df_input.columns\n"
   ],
   "metadata": {
    "collapsed": false,
    "pycharm": {
     "name": "#%%\n",
     "is_executing": false
    }
   }
  },
  {
   "cell_type": "code",
   "execution_count": 17,
   "outputs": [
    {
     "data": {
      "text/plain": "0.000000    339\n0.002381     27\n0.004762     23\n0.007143     14\n0.015234      9\n           ... \n0.026264      1\n0.008783      1\n0.114286      1\n0.017972      1\n0.007992      1\nName: skin_6, Length: 681, dtype: int64"
     },
     "metadata": {},
     "output_type": "execute_result",
     "execution_count": 17
    }
   ],
   "source": [
    "df_input['skin_6'].value_counts()\n"
   ],
   "metadata": {
    "collapsed": false,
    "pycharm": {
     "name": "#%%\n",
     "is_executing": false
    }
   }
  },
  {
   "cell_type": "code",
   "execution_count": 20,
   "outputs": [
    {
     "data": {
      "text/plain": "True"
     },
     "metadata": {},
     "output_type": "execute_result",
     "execution_count": 20
    }
   ],
   "source": [
    "np.all(np.isfinite(df_input))"
   ],
   "metadata": {
    "collapsed": false,
    "pycharm": {
     "name": "#%%\n",
     "is_executing": false
    }
   }
  },
  {
   "cell_type": "code",
   "execution_count": 22,
   "outputs": [
    {
     "data": {
      "text/plain": "        Rating    0_10_x    0_10_y    0_11_x    0_11_y    0_12_x    0_12_y  \\\n0     2.333333  0.719807  0.640777  0.806763  0.553398  0.864734  0.451456   \n1     3.433333  0.685990  0.655340  0.768116  0.577670  0.835749  0.490291   \n2     2.900000  0.719807  0.650485  0.806763  0.582524  0.874396  0.495146   \n3     3.966667  0.676329  0.596774  0.734300  0.516129  0.777778  0.408602   \n4     3.733333  0.748387  0.800000  0.845161  0.696774  0.929032  0.587097   \n...        ...       ...       ...       ...       ...       ...       ...   \n1995  3.016667  0.753623  0.626214  0.840580  0.543689  0.903382  0.446602   \n1996  3.366667  0.637681  0.645161  0.710145  0.564516  0.777778  0.478495   \n1997  3.733333  0.700483  0.635922  0.782609  0.558252  0.840580  0.461165   \n1998  3.350000  0.838710  0.819355  0.935484  0.716129  1.019355  0.593548   \n1999  3.500000  0.761290  0.812903  0.851613  0.716129  0.941935  0.600000   \n\n        0_13_x    0_13_y    0_14_x  ...   skin_23   skin_24   skin_25  \\\n0     0.898551  0.334951  0.913043  ...  0.000000  0.919048  0.009524   \n1     0.879227  0.378641  0.898551  ...  0.000000  0.895238  0.021429   \n2     0.903382  0.378641  0.913043  ...  0.000000  0.564286  0.214286   \n3     0.806763  0.301075  0.826087  ...  0.000000  0.615984  0.163743   \n4     0.987097  0.458065  1.019355  ...  0.015151  0.150135  0.388845   \n...        ...       ...       ...  ...       ...       ...       ...   \n1995  0.932367  0.325243  0.946860  ...  0.000000  0.547619  0.216667   \n1996  0.821256  0.370968  0.850242  ...  0.000000  0.468393  0.146756   \n1997  0.874396  0.349515  0.888889  ...  0.000000  0.621429  0.200000   \n1998  1.077419  0.451613  1.109677  ...  0.010697  0.134152  0.305848   \n1999  1.000000  0.477419  1.045161  ...  0.009906  0.183392  0.332945   \n\n        skin_3    skin_4    skin_5    skin_6    skin_7    skin_8    skin_9  \n0     0.002381  0.000000  0.000000  0.000000  0.000000  0.000000  0.000000  \n1     0.000000  0.000000  0.000000  0.000000  0.000000  0.000000  0.000000  \n2     0.019048  0.040476  0.002381  0.002381  0.002381  0.000000  0.002381  \n3     0.031189  0.010304  0.002506  0.002506  0.000557  0.001949  0.001949  \n4     0.013985  0.014776  0.016067  0.017107  0.015775  0.015734  0.018023  \n...        ...       ...       ...       ...       ...       ...       ...  \n1995  0.021429  0.028571  0.026190  0.014286  0.004762  0.000000  0.000000  \n1996  0.024227  0.032860  0.026177  0.028126  0.016708  0.013367  0.012810  \n1997  0.030952  0.007143  0.002381  0.004762  0.000000  0.000000  0.000000  \n1998  0.016857  0.017107  0.015359  0.017815  0.021270  0.021103  0.024766  \n1999  0.012237  0.011904  0.013278  0.014984  0.018522  0.018855  0.023184  \n\n[1906 rows x 4583 columns]",
      "text/html": "<div>\n<style scoped>\n    .dataframe tbody tr th:only-of-type {\n        vertical-align: middle;\n    }\n\n    .dataframe tbody tr th {\n        vertical-align: top;\n    }\n\n    .dataframe thead th {\n        text-align: right;\n    }\n</style>\n<table border=\"1\" class=\"dataframe\">\n  <thead>\n    <tr style=\"text-align: right;\">\n      <th></th>\n      <th>Rating</th>\n      <th>0_10_x</th>\n      <th>0_10_y</th>\n      <th>0_11_x</th>\n      <th>0_11_y</th>\n      <th>0_12_x</th>\n      <th>0_12_y</th>\n      <th>0_13_x</th>\n      <th>0_13_y</th>\n      <th>0_14_x</th>\n      <th>...</th>\n      <th>skin_23</th>\n      <th>skin_24</th>\n      <th>skin_25</th>\n      <th>skin_3</th>\n      <th>skin_4</th>\n      <th>skin_5</th>\n      <th>skin_6</th>\n      <th>skin_7</th>\n      <th>skin_8</th>\n      <th>skin_9</th>\n    </tr>\n  </thead>\n  <tbody>\n    <tr>\n      <th>0</th>\n      <td>2.333333</td>\n      <td>0.719807</td>\n      <td>0.640777</td>\n      <td>0.806763</td>\n      <td>0.553398</td>\n      <td>0.864734</td>\n      <td>0.451456</td>\n      <td>0.898551</td>\n      <td>0.334951</td>\n      <td>0.913043</td>\n      <td>...</td>\n      <td>0.000000</td>\n      <td>0.919048</td>\n      <td>0.009524</td>\n      <td>0.002381</td>\n      <td>0.000000</td>\n      <td>0.000000</td>\n      <td>0.000000</td>\n      <td>0.000000</td>\n      <td>0.000000</td>\n      <td>0.000000</td>\n    </tr>\n    <tr>\n      <th>1</th>\n      <td>3.433333</td>\n      <td>0.685990</td>\n      <td>0.655340</td>\n      <td>0.768116</td>\n      <td>0.577670</td>\n      <td>0.835749</td>\n      <td>0.490291</td>\n      <td>0.879227</td>\n      <td>0.378641</td>\n      <td>0.898551</td>\n      <td>...</td>\n      <td>0.000000</td>\n      <td>0.895238</td>\n      <td>0.021429</td>\n      <td>0.000000</td>\n      <td>0.000000</td>\n      <td>0.000000</td>\n      <td>0.000000</td>\n      <td>0.000000</td>\n      <td>0.000000</td>\n      <td>0.000000</td>\n    </tr>\n    <tr>\n      <th>2</th>\n      <td>2.900000</td>\n      <td>0.719807</td>\n      <td>0.650485</td>\n      <td>0.806763</td>\n      <td>0.582524</td>\n      <td>0.874396</td>\n      <td>0.495146</td>\n      <td>0.903382</td>\n      <td>0.378641</td>\n      <td>0.913043</td>\n      <td>...</td>\n      <td>0.000000</td>\n      <td>0.564286</td>\n      <td>0.214286</td>\n      <td>0.019048</td>\n      <td>0.040476</td>\n      <td>0.002381</td>\n      <td>0.002381</td>\n      <td>0.002381</td>\n      <td>0.000000</td>\n      <td>0.002381</td>\n    </tr>\n    <tr>\n      <th>3</th>\n      <td>3.966667</td>\n      <td>0.676329</td>\n      <td>0.596774</td>\n      <td>0.734300</td>\n      <td>0.516129</td>\n      <td>0.777778</td>\n      <td>0.408602</td>\n      <td>0.806763</td>\n      <td>0.301075</td>\n      <td>0.826087</td>\n      <td>...</td>\n      <td>0.000000</td>\n      <td>0.615984</td>\n      <td>0.163743</td>\n      <td>0.031189</td>\n      <td>0.010304</td>\n      <td>0.002506</td>\n      <td>0.002506</td>\n      <td>0.000557</td>\n      <td>0.001949</td>\n      <td>0.001949</td>\n    </tr>\n    <tr>\n      <th>4</th>\n      <td>3.733333</td>\n      <td>0.748387</td>\n      <td>0.800000</td>\n      <td>0.845161</td>\n      <td>0.696774</td>\n      <td>0.929032</td>\n      <td>0.587097</td>\n      <td>0.987097</td>\n      <td>0.458065</td>\n      <td>1.019355</td>\n      <td>...</td>\n      <td>0.015151</td>\n      <td>0.150135</td>\n      <td>0.388845</td>\n      <td>0.013985</td>\n      <td>0.014776</td>\n      <td>0.016067</td>\n      <td>0.017107</td>\n      <td>0.015775</td>\n      <td>0.015734</td>\n      <td>0.018023</td>\n    </tr>\n    <tr>\n      <th>...</th>\n      <td>...</td>\n      <td>...</td>\n      <td>...</td>\n      <td>...</td>\n      <td>...</td>\n      <td>...</td>\n      <td>...</td>\n      <td>...</td>\n      <td>...</td>\n      <td>...</td>\n      <td>...</td>\n      <td>...</td>\n      <td>...</td>\n      <td>...</td>\n      <td>...</td>\n      <td>...</td>\n      <td>...</td>\n      <td>...</td>\n      <td>...</td>\n      <td>...</td>\n      <td>...</td>\n    </tr>\n    <tr>\n      <th>1995</th>\n      <td>3.016667</td>\n      <td>0.753623</td>\n      <td>0.626214</td>\n      <td>0.840580</td>\n      <td>0.543689</td>\n      <td>0.903382</td>\n      <td>0.446602</td>\n      <td>0.932367</td>\n      <td>0.325243</td>\n      <td>0.946860</td>\n      <td>...</td>\n      <td>0.000000</td>\n      <td>0.547619</td>\n      <td>0.216667</td>\n      <td>0.021429</td>\n      <td>0.028571</td>\n      <td>0.026190</td>\n      <td>0.014286</td>\n      <td>0.004762</td>\n      <td>0.000000</td>\n      <td>0.000000</td>\n    </tr>\n    <tr>\n      <th>1996</th>\n      <td>3.366667</td>\n      <td>0.637681</td>\n      <td>0.645161</td>\n      <td>0.710145</td>\n      <td>0.564516</td>\n      <td>0.777778</td>\n      <td>0.478495</td>\n      <td>0.821256</td>\n      <td>0.370968</td>\n      <td>0.850242</td>\n      <td>...</td>\n      <td>0.000000</td>\n      <td>0.468393</td>\n      <td>0.146756</td>\n      <td>0.024227</td>\n      <td>0.032860</td>\n      <td>0.026177</td>\n      <td>0.028126</td>\n      <td>0.016708</td>\n      <td>0.013367</td>\n      <td>0.012810</td>\n    </tr>\n    <tr>\n      <th>1997</th>\n      <td>3.733333</td>\n      <td>0.700483</td>\n      <td>0.635922</td>\n      <td>0.782609</td>\n      <td>0.558252</td>\n      <td>0.840580</td>\n      <td>0.461165</td>\n      <td>0.874396</td>\n      <td>0.349515</td>\n      <td>0.888889</td>\n      <td>...</td>\n      <td>0.000000</td>\n      <td>0.621429</td>\n      <td>0.200000</td>\n      <td>0.030952</td>\n      <td>0.007143</td>\n      <td>0.002381</td>\n      <td>0.004762</td>\n      <td>0.000000</td>\n      <td>0.000000</td>\n      <td>0.000000</td>\n    </tr>\n    <tr>\n      <th>1998</th>\n      <td>3.350000</td>\n      <td>0.838710</td>\n      <td>0.819355</td>\n      <td>0.935484</td>\n      <td>0.716129</td>\n      <td>1.019355</td>\n      <td>0.593548</td>\n      <td>1.077419</td>\n      <td>0.451613</td>\n      <td>1.109677</td>\n      <td>...</td>\n      <td>0.010697</td>\n      <td>0.134152</td>\n      <td>0.305848</td>\n      <td>0.016857</td>\n      <td>0.017107</td>\n      <td>0.015359</td>\n      <td>0.017815</td>\n      <td>0.021270</td>\n      <td>0.021103</td>\n      <td>0.024766</td>\n    </tr>\n    <tr>\n      <th>1999</th>\n      <td>3.500000</td>\n      <td>0.761290</td>\n      <td>0.812903</td>\n      <td>0.851613</td>\n      <td>0.716129</td>\n      <td>0.941935</td>\n      <td>0.600000</td>\n      <td>1.000000</td>\n      <td>0.477419</td>\n      <td>1.045161</td>\n      <td>...</td>\n      <td>0.009906</td>\n      <td>0.183392</td>\n      <td>0.332945</td>\n      <td>0.012237</td>\n      <td>0.011904</td>\n      <td>0.013278</td>\n      <td>0.014984</td>\n      <td>0.018522</td>\n      <td>0.018855</td>\n      <td>0.023184</td>\n    </tr>\n  </tbody>\n</table>\n<p>1906 rows × 4583 columns</p>\n</div>"
     },
     "metadata": {},
     "output_type": "execute_result",
     "execution_count": 22
    }
   ],
   "source": [
    "df_input[np.isfinite(df_input)]"
   ],
   "metadata": {
    "collapsed": false,
    "pycharm": {
     "name": "#%%\n",
     "is_executing": false
    }
   }
  },
  {
   "cell_type": "code",
   "execution_count": 30,
   "outputs": [
    {
     "data": {
      "text/plain": "      Rating  0_10_x  0_10_y  0_11_x  0_11_y  0_12_x  0_12_y  0_13_x  0_13_y  \\\n0      False   False   False   False   False   False   False   False   False   \n1      False   False   False   False   False   False   False   False   False   \n2      False   False   False   False   False   False   False   False   False   \n3      False   False   False   False   False   False   False   False   False   \n4      False   False   False   False   False   False   False   False   False   \n...      ...     ...     ...     ...     ...     ...     ...     ...     ...   \n1995   False   False   False   False   False   False   False   False   False   \n1996   False   False   False   False   False   False   False   False   False   \n1997   False   False   False   False   False   False   False   False   False   \n1998   False   False   False   False   False   False   False   False   False   \n1999   False   False   False   False   False   False   False   False   False   \n\n      0_14_x  ...  skin_23  skin_24  skin_25  skin_3  skin_4  skin_5  skin_6  \\\n0      False  ...    False    False    False   False   False   False   False   \n1      False  ...    False    False    False   False   False   False   False   \n2      False  ...    False    False    False   False   False   False   False   \n3      False  ...    False    False    False   False   False   False   False   \n4      False  ...    False    False    False   False   False   False   False   \n...      ...  ...      ...      ...      ...     ...     ...     ...     ...   \n1995   False  ...    False    False    False   False   False   False   False   \n1996   False  ...    False    False    False   False   False   False   False   \n1997   False  ...    False    False    False   False   False   False   False   \n1998   False  ...    False    False    False   False   False   False   False   \n1999   False  ...    False    False    False   False   False   False   False   \n\n      skin_7  skin_8  skin_9  \n0      False   False   False  \n1      False   False   False  \n2      False   False   False  \n3      False   False   False  \n4      False   False   False  \n...      ...     ...     ...  \n1995   False   False   False  \n1996   False   False   False  \n1997   False   False   False  \n1998   False   False   False  \n1999   False   False   False  \n\n[1906 rows x 4583 columns]",
      "text/html": "<div>\n<style scoped>\n    .dataframe tbody tr th:only-of-type {\n        vertical-align: middle;\n    }\n\n    .dataframe tbody tr th {\n        vertical-align: top;\n    }\n\n    .dataframe thead th {\n        text-align: right;\n    }\n</style>\n<table border=\"1\" class=\"dataframe\">\n  <thead>\n    <tr style=\"text-align: right;\">\n      <th></th>\n      <th>Rating</th>\n      <th>0_10_x</th>\n      <th>0_10_y</th>\n      <th>0_11_x</th>\n      <th>0_11_y</th>\n      <th>0_12_x</th>\n      <th>0_12_y</th>\n      <th>0_13_x</th>\n      <th>0_13_y</th>\n      <th>0_14_x</th>\n      <th>...</th>\n      <th>skin_23</th>\n      <th>skin_24</th>\n      <th>skin_25</th>\n      <th>skin_3</th>\n      <th>skin_4</th>\n      <th>skin_5</th>\n      <th>skin_6</th>\n      <th>skin_7</th>\n      <th>skin_8</th>\n      <th>skin_9</th>\n    </tr>\n  </thead>\n  <tbody>\n    <tr>\n      <th>0</th>\n      <td>False</td>\n      <td>False</td>\n      <td>False</td>\n      <td>False</td>\n      <td>False</td>\n      <td>False</td>\n      <td>False</td>\n      <td>False</td>\n      <td>False</td>\n      <td>False</td>\n      <td>...</td>\n      <td>False</td>\n      <td>False</td>\n      <td>False</td>\n      <td>False</td>\n      <td>False</td>\n      <td>False</td>\n      <td>False</td>\n      <td>False</td>\n      <td>False</td>\n      <td>False</td>\n    </tr>\n    <tr>\n      <th>1</th>\n      <td>False</td>\n      <td>False</td>\n      <td>False</td>\n      <td>False</td>\n      <td>False</td>\n      <td>False</td>\n      <td>False</td>\n      <td>False</td>\n      <td>False</td>\n      <td>False</td>\n      <td>...</td>\n      <td>False</td>\n      <td>False</td>\n      <td>False</td>\n      <td>False</td>\n      <td>False</td>\n      <td>False</td>\n      <td>False</td>\n      <td>False</td>\n      <td>False</td>\n      <td>False</td>\n    </tr>\n    <tr>\n      <th>2</th>\n      <td>False</td>\n      <td>False</td>\n      <td>False</td>\n      <td>False</td>\n      <td>False</td>\n      <td>False</td>\n      <td>False</td>\n      <td>False</td>\n      <td>False</td>\n      <td>False</td>\n      <td>...</td>\n      <td>False</td>\n      <td>False</td>\n      <td>False</td>\n      <td>False</td>\n      <td>False</td>\n      <td>False</td>\n      <td>False</td>\n      <td>False</td>\n      <td>False</td>\n      <td>False</td>\n    </tr>\n    <tr>\n      <th>3</th>\n      <td>False</td>\n      <td>False</td>\n      <td>False</td>\n      <td>False</td>\n      <td>False</td>\n      <td>False</td>\n      <td>False</td>\n      <td>False</td>\n      <td>False</td>\n      <td>False</td>\n      <td>...</td>\n      <td>False</td>\n      <td>False</td>\n      <td>False</td>\n      <td>False</td>\n      <td>False</td>\n      <td>False</td>\n      <td>False</td>\n      <td>False</td>\n      <td>False</td>\n      <td>False</td>\n    </tr>\n    <tr>\n      <th>4</th>\n      <td>False</td>\n      <td>False</td>\n      <td>False</td>\n      <td>False</td>\n      <td>False</td>\n      <td>False</td>\n      <td>False</td>\n      <td>False</td>\n      <td>False</td>\n      <td>False</td>\n      <td>...</td>\n      <td>False</td>\n      <td>False</td>\n      <td>False</td>\n      <td>False</td>\n      <td>False</td>\n      <td>False</td>\n      <td>False</td>\n      <td>False</td>\n      <td>False</td>\n      <td>False</td>\n    </tr>\n    <tr>\n      <th>...</th>\n      <td>...</td>\n      <td>...</td>\n      <td>...</td>\n      <td>...</td>\n      <td>...</td>\n      <td>...</td>\n      <td>...</td>\n      <td>...</td>\n      <td>...</td>\n      <td>...</td>\n      <td>...</td>\n      <td>...</td>\n      <td>...</td>\n      <td>...</td>\n      <td>...</td>\n      <td>...</td>\n      <td>...</td>\n      <td>...</td>\n      <td>...</td>\n      <td>...</td>\n      <td>...</td>\n    </tr>\n    <tr>\n      <th>1995</th>\n      <td>False</td>\n      <td>False</td>\n      <td>False</td>\n      <td>False</td>\n      <td>False</td>\n      <td>False</td>\n      <td>False</td>\n      <td>False</td>\n      <td>False</td>\n      <td>False</td>\n      <td>...</td>\n      <td>False</td>\n      <td>False</td>\n      <td>False</td>\n      <td>False</td>\n      <td>False</td>\n      <td>False</td>\n      <td>False</td>\n      <td>False</td>\n      <td>False</td>\n      <td>False</td>\n    </tr>\n    <tr>\n      <th>1996</th>\n      <td>False</td>\n      <td>False</td>\n      <td>False</td>\n      <td>False</td>\n      <td>False</td>\n      <td>False</td>\n      <td>False</td>\n      <td>False</td>\n      <td>False</td>\n      <td>False</td>\n      <td>...</td>\n      <td>False</td>\n      <td>False</td>\n      <td>False</td>\n      <td>False</td>\n      <td>False</td>\n      <td>False</td>\n      <td>False</td>\n      <td>False</td>\n      <td>False</td>\n      <td>False</td>\n    </tr>\n    <tr>\n      <th>1997</th>\n      <td>False</td>\n      <td>False</td>\n      <td>False</td>\n      <td>False</td>\n      <td>False</td>\n      <td>False</td>\n      <td>False</td>\n      <td>False</td>\n      <td>False</td>\n      <td>False</td>\n      <td>...</td>\n      <td>False</td>\n      <td>False</td>\n      <td>False</td>\n      <td>False</td>\n      <td>False</td>\n      <td>False</td>\n      <td>False</td>\n      <td>False</td>\n      <td>False</td>\n      <td>False</td>\n    </tr>\n    <tr>\n      <th>1998</th>\n      <td>False</td>\n      <td>False</td>\n      <td>False</td>\n      <td>False</td>\n      <td>False</td>\n      <td>False</td>\n      <td>False</td>\n      <td>False</td>\n      <td>False</td>\n      <td>False</td>\n      <td>...</td>\n      <td>False</td>\n      <td>False</td>\n      <td>False</td>\n      <td>False</td>\n      <td>False</td>\n      <td>False</td>\n      <td>False</td>\n      <td>False</td>\n      <td>False</td>\n      <td>False</td>\n    </tr>\n    <tr>\n      <th>1999</th>\n      <td>False</td>\n      <td>False</td>\n      <td>False</td>\n      <td>False</td>\n      <td>False</td>\n      <td>False</td>\n      <td>False</td>\n      <td>False</td>\n      <td>False</td>\n      <td>False</td>\n      <td>...</td>\n      <td>False</td>\n      <td>False</td>\n      <td>False</td>\n      <td>False</td>\n      <td>False</td>\n      <td>False</td>\n      <td>False</td>\n      <td>False</td>\n      <td>False</td>\n      <td>False</td>\n    </tr>\n  </tbody>\n</table>\n<p>1906 rows × 4583 columns</p>\n</div>"
     },
     "metadata": {},
     "output_type": "execute_result",
     "execution_count": 30
    }
   ],
   "source": [
    "df_input.isna()"
   ],
   "metadata": {
    "collapsed": false,
    "pycharm": {
     "name": "#%%\n",
     "is_executing": false
    }
   }
  },
  {
   "cell_type": "code",
   "execution_count": 26,
   "outputs": [
    {
     "data": {
      "text/plain": "        Rating    0_10_x    0_10_y    0_11_x    0_11_y    0_12_x    0_12_y  \\\n0     2.333333  0.719807  0.640777  0.806763  0.553398  0.864734  0.451456   \n1     3.433333  0.685990  0.655340  0.768116  0.577670  0.835749  0.490291   \n2     2.900000  0.719807  0.650485  0.806763  0.582524  0.874396  0.495146   \n3     3.966667  0.676329  0.596774  0.734300  0.516129  0.777778  0.408602   \n4     3.733333  0.748387  0.800000  0.845161  0.696774  0.929032  0.587097   \n...        ...       ...       ...       ...       ...       ...       ...   \n1995  3.016667  0.753623  0.626214  0.840580  0.543689  0.903382  0.446602   \n1996  3.366667  0.637681  0.645161  0.710145  0.564516  0.777778  0.478495   \n1997  3.733333  0.700483  0.635922  0.782609  0.558252  0.840580  0.461165   \n1998  3.350000  0.838710  0.819355  0.935484  0.716129  1.019355  0.593548   \n1999  3.500000  0.761290  0.812903  0.851613  0.716129  0.941935  0.600000   \n\n        0_13_x    0_13_y    0_14_x  ...   skin_23   skin_24   skin_25  \\\n0     0.898551  0.334951  0.913043  ...  0.000000  0.919048  0.009524   \n1     0.879227  0.378641  0.898551  ...  0.000000  0.895238  0.021429   \n2     0.903382  0.378641  0.913043  ...  0.000000  0.564286  0.214286   \n3     0.806763  0.301075  0.826087  ...  0.000000  0.615984  0.163743   \n4     0.987097  0.458065  1.019355  ...  0.015151  0.150135  0.388845   \n...        ...       ...       ...  ...       ...       ...       ...   \n1995  0.932367  0.325243  0.946860  ...  0.000000  0.547619  0.216667   \n1996  0.821256  0.370968  0.850242  ...  0.000000  0.468393  0.146756   \n1997  0.874396  0.349515  0.888889  ...  0.000000  0.621429  0.200000   \n1998  1.077419  0.451613  1.109677  ...  0.010697  0.134152  0.305848   \n1999  1.000000  0.477419  1.045161  ...  0.009906  0.183392  0.332945   \n\n        skin_3    skin_4    skin_5    skin_6    skin_7    skin_8    skin_9  \n0     0.002381  0.000000  0.000000  0.000000  0.000000  0.000000  0.000000  \n1     0.000000  0.000000  0.000000  0.000000  0.000000  0.000000  0.000000  \n2     0.019048  0.040476  0.002381  0.002381  0.002381  0.000000  0.002381  \n3     0.031189  0.010304  0.002506  0.002506  0.000557  0.001949  0.001949  \n4     0.013985  0.014776  0.016067  0.017107  0.015775  0.015734  0.018023  \n...        ...       ...       ...       ...       ...       ...       ...  \n1995  0.021429  0.028571  0.026190  0.014286  0.004762  0.000000  0.000000  \n1996  0.024227  0.032860  0.026177  0.028126  0.016708  0.013367  0.012810  \n1997  0.030952  0.007143  0.002381  0.004762  0.000000  0.000000  0.000000  \n1998  0.016857  0.017107  0.015359  0.017815  0.021270  0.021103  0.024766  \n1999  0.012237  0.011904  0.013278  0.014984  0.018522  0.018855  0.023184  \n\n[1906 rows x 4583 columns]",
      "text/html": "<div>\n<style scoped>\n    .dataframe tbody tr th:only-of-type {\n        vertical-align: middle;\n    }\n\n    .dataframe tbody tr th {\n        vertical-align: top;\n    }\n\n    .dataframe thead th {\n        text-align: right;\n    }\n</style>\n<table border=\"1\" class=\"dataframe\">\n  <thead>\n    <tr style=\"text-align: right;\">\n      <th></th>\n      <th>Rating</th>\n      <th>0_10_x</th>\n      <th>0_10_y</th>\n      <th>0_11_x</th>\n      <th>0_11_y</th>\n      <th>0_12_x</th>\n      <th>0_12_y</th>\n      <th>0_13_x</th>\n      <th>0_13_y</th>\n      <th>0_14_x</th>\n      <th>...</th>\n      <th>skin_23</th>\n      <th>skin_24</th>\n      <th>skin_25</th>\n      <th>skin_3</th>\n      <th>skin_4</th>\n      <th>skin_5</th>\n      <th>skin_6</th>\n      <th>skin_7</th>\n      <th>skin_8</th>\n      <th>skin_9</th>\n    </tr>\n  </thead>\n  <tbody>\n    <tr>\n      <th>0</th>\n      <td>2.333333</td>\n      <td>0.719807</td>\n      <td>0.640777</td>\n      <td>0.806763</td>\n      <td>0.553398</td>\n      <td>0.864734</td>\n      <td>0.451456</td>\n      <td>0.898551</td>\n      <td>0.334951</td>\n      <td>0.913043</td>\n      <td>...</td>\n      <td>0.000000</td>\n      <td>0.919048</td>\n      <td>0.009524</td>\n      <td>0.002381</td>\n      <td>0.000000</td>\n      <td>0.000000</td>\n      <td>0.000000</td>\n      <td>0.000000</td>\n      <td>0.000000</td>\n      <td>0.000000</td>\n    </tr>\n    <tr>\n      <th>1</th>\n      <td>3.433333</td>\n      <td>0.685990</td>\n      <td>0.655340</td>\n      <td>0.768116</td>\n      <td>0.577670</td>\n      <td>0.835749</td>\n      <td>0.490291</td>\n      <td>0.879227</td>\n      <td>0.378641</td>\n      <td>0.898551</td>\n      <td>...</td>\n      <td>0.000000</td>\n      <td>0.895238</td>\n      <td>0.021429</td>\n      <td>0.000000</td>\n      <td>0.000000</td>\n      <td>0.000000</td>\n      <td>0.000000</td>\n      <td>0.000000</td>\n      <td>0.000000</td>\n      <td>0.000000</td>\n    </tr>\n    <tr>\n      <th>2</th>\n      <td>2.900000</td>\n      <td>0.719807</td>\n      <td>0.650485</td>\n      <td>0.806763</td>\n      <td>0.582524</td>\n      <td>0.874396</td>\n      <td>0.495146</td>\n      <td>0.903382</td>\n      <td>0.378641</td>\n      <td>0.913043</td>\n      <td>...</td>\n      <td>0.000000</td>\n      <td>0.564286</td>\n      <td>0.214286</td>\n      <td>0.019048</td>\n      <td>0.040476</td>\n      <td>0.002381</td>\n      <td>0.002381</td>\n      <td>0.002381</td>\n      <td>0.000000</td>\n      <td>0.002381</td>\n    </tr>\n    <tr>\n      <th>3</th>\n      <td>3.966667</td>\n      <td>0.676329</td>\n      <td>0.596774</td>\n      <td>0.734300</td>\n      <td>0.516129</td>\n      <td>0.777778</td>\n      <td>0.408602</td>\n      <td>0.806763</td>\n      <td>0.301075</td>\n      <td>0.826087</td>\n      <td>...</td>\n      <td>0.000000</td>\n      <td>0.615984</td>\n      <td>0.163743</td>\n      <td>0.031189</td>\n      <td>0.010304</td>\n      <td>0.002506</td>\n      <td>0.002506</td>\n      <td>0.000557</td>\n      <td>0.001949</td>\n      <td>0.001949</td>\n    </tr>\n    <tr>\n      <th>4</th>\n      <td>3.733333</td>\n      <td>0.748387</td>\n      <td>0.800000</td>\n      <td>0.845161</td>\n      <td>0.696774</td>\n      <td>0.929032</td>\n      <td>0.587097</td>\n      <td>0.987097</td>\n      <td>0.458065</td>\n      <td>1.019355</td>\n      <td>...</td>\n      <td>0.015151</td>\n      <td>0.150135</td>\n      <td>0.388845</td>\n      <td>0.013985</td>\n      <td>0.014776</td>\n      <td>0.016067</td>\n      <td>0.017107</td>\n      <td>0.015775</td>\n      <td>0.015734</td>\n      <td>0.018023</td>\n    </tr>\n    <tr>\n      <th>...</th>\n      <td>...</td>\n      <td>...</td>\n      <td>...</td>\n      <td>...</td>\n      <td>...</td>\n      <td>...</td>\n      <td>...</td>\n      <td>...</td>\n      <td>...</td>\n      <td>...</td>\n      <td>...</td>\n      <td>...</td>\n      <td>...</td>\n      <td>...</td>\n      <td>...</td>\n      <td>...</td>\n      <td>...</td>\n      <td>...</td>\n      <td>...</td>\n      <td>...</td>\n      <td>...</td>\n    </tr>\n    <tr>\n      <th>1995</th>\n      <td>3.016667</td>\n      <td>0.753623</td>\n      <td>0.626214</td>\n      <td>0.840580</td>\n      <td>0.543689</td>\n      <td>0.903382</td>\n      <td>0.446602</td>\n      <td>0.932367</td>\n      <td>0.325243</td>\n      <td>0.946860</td>\n      <td>...</td>\n      <td>0.000000</td>\n      <td>0.547619</td>\n      <td>0.216667</td>\n      <td>0.021429</td>\n      <td>0.028571</td>\n      <td>0.026190</td>\n      <td>0.014286</td>\n      <td>0.004762</td>\n      <td>0.000000</td>\n      <td>0.000000</td>\n    </tr>\n    <tr>\n      <th>1996</th>\n      <td>3.366667</td>\n      <td>0.637681</td>\n      <td>0.645161</td>\n      <td>0.710145</td>\n      <td>0.564516</td>\n      <td>0.777778</td>\n      <td>0.478495</td>\n      <td>0.821256</td>\n      <td>0.370968</td>\n      <td>0.850242</td>\n      <td>...</td>\n      <td>0.000000</td>\n      <td>0.468393</td>\n      <td>0.146756</td>\n      <td>0.024227</td>\n      <td>0.032860</td>\n      <td>0.026177</td>\n      <td>0.028126</td>\n      <td>0.016708</td>\n      <td>0.013367</td>\n      <td>0.012810</td>\n    </tr>\n    <tr>\n      <th>1997</th>\n      <td>3.733333</td>\n      <td>0.700483</td>\n      <td>0.635922</td>\n      <td>0.782609</td>\n      <td>0.558252</td>\n      <td>0.840580</td>\n      <td>0.461165</td>\n      <td>0.874396</td>\n      <td>0.349515</td>\n      <td>0.888889</td>\n      <td>...</td>\n      <td>0.000000</td>\n      <td>0.621429</td>\n      <td>0.200000</td>\n      <td>0.030952</td>\n      <td>0.007143</td>\n      <td>0.002381</td>\n      <td>0.004762</td>\n      <td>0.000000</td>\n      <td>0.000000</td>\n      <td>0.000000</td>\n    </tr>\n    <tr>\n      <th>1998</th>\n      <td>3.350000</td>\n      <td>0.838710</td>\n      <td>0.819355</td>\n      <td>0.935484</td>\n      <td>0.716129</td>\n      <td>1.019355</td>\n      <td>0.593548</td>\n      <td>1.077419</td>\n      <td>0.451613</td>\n      <td>1.109677</td>\n      <td>...</td>\n      <td>0.010697</td>\n      <td>0.134152</td>\n      <td>0.305848</td>\n      <td>0.016857</td>\n      <td>0.017107</td>\n      <td>0.015359</td>\n      <td>0.017815</td>\n      <td>0.021270</td>\n      <td>0.021103</td>\n      <td>0.024766</td>\n    </tr>\n    <tr>\n      <th>1999</th>\n      <td>3.500000</td>\n      <td>0.761290</td>\n      <td>0.812903</td>\n      <td>0.851613</td>\n      <td>0.716129</td>\n      <td>0.941935</td>\n      <td>0.600000</td>\n      <td>1.000000</td>\n      <td>0.477419</td>\n      <td>1.045161</td>\n      <td>...</td>\n      <td>0.009906</td>\n      <td>0.183392</td>\n      <td>0.332945</td>\n      <td>0.012237</td>\n      <td>0.011904</td>\n      <td>0.013278</td>\n      <td>0.014984</td>\n      <td>0.018522</td>\n      <td>0.018855</td>\n      <td>0.023184</td>\n    </tr>\n  </tbody>\n</table>\n<p>1906 rows × 4583 columns</p>\n</div>"
     },
     "metadata": {},
     "output_type": "execute_result",
     "execution_count": 26
    }
   ],
   "source": [
    "df_input.fillna(0)"
   ],
   "metadata": {
    "collapsed": false,
    "pycharm": {
     "name": "#%%\n",
     "is_executing": false
    }
   }
  },
  {
   "cell_type": "code",
   "execution_count": 33,
   "outputs": [
    {
     "data": {
      "text/plain": "Rating    False\n0_10_x    False\n0_10_y    False\n0_11_x    False\n0_11_y    False\n          ...  \nskin_5    False\nskin_6    False\nskin_7    False\nskin_8    False\nskin_9    False\nLength: 4583, dtype: bool"
     },
     "metadata": {},
     "output_type": "execute_result",
     "execution_count": 33
    }
   ],
   "source": [
    "np.isinf(df_input).all()"
   ],
   "metadata": {
    "collapsed": false,
    "pycharm": {
     "name": "#%%\n",
     "is_executing": false
    }
   }
  },
  {
   "cell_type": "code",
   "execution_count": null,
   "outputs": [],
   "source": [
    "\n"
   ],
   "metadata": {
    "collapsed": false,
    "pycharm": {
     "name": "#%%\n"
    }
   }
  }
 ],
 "metadata": {
  "kernelspec": {
   "display_name": "Python 3",
   "language": "python",
   "name": "python3"
  },
  "language_info": {
   "codemirror_mode": {
    "name": "ipython",
    "version": 3
   },
   "file_extension": ".py",
   "mimetype": "text/x-python",
   "name": "python",
   "nbconvert_exporter": "python",
   "pygments_lexer": "ipython3",
   "version": "3.6.7"
  },
  "pycharm": {
   "stem_cell": {
    "cell_type": "raw",
    "source": [],
    "metadata": {
     "collapsed": false
    }
   }
  }
 },
 "nbformat": 4,
 "nbformat_minor": 4
}