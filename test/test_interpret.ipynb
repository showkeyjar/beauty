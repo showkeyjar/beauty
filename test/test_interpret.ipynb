{
 "cells": [
  {
   "cell_type": "code",
   "execution_count": null,
   "metadata": {},
   "outputs": [],
   "source": [
    "import sys\n",
    "import dlib\n",
    "import numpy as np\n",
    "import pandas as pd\n",
    "from sklearn.externals import joblib\n",
    "from interpret import show\n",
    "from interpret.perf import RegressionPerf\n",
    "from interpret.blackbox import LimeTabular\n",
    "from interpret.blackbox import ShapKernel"
   ]
  },
  {
   "cell_type": "code",
   "execution_count": null,
   "metadata": {},
   "outputs": [],
   "source": [
    "predictor_path = \"model/shape_predictor_68_face_landmarks.dat\"\n",
    "detector = dlib.get_frontal_face_detector()\n",
    "predictor = dlib.shape_predictor(predictor_path)\n",
    "model = joblib.load('model/beauty.pkl')\n",
    "df_input = pd.read_csv('data/face/df_input.csv', dtype=np.float64)\n",
    "df_label = df_input['label'].values\n",
    "\n",
    "df_input = df_input.drop(['Unnamed: 0', 'Image', 'label'], axis=1)\n",
    "feature_names = df_input.columns\n",
    "df_input = df_input.values\n",
    "print(feature_names)"
   ]
  },
  {
   "cell_type": "code",
   "execution_count": null,
   "metadata": {},
   "outputs": [],
   "source": [
    "def prepare_input(img_path):\n",
    "    img = dlib.load_rgb_image(img_path)\n",
    "    dets = detector(img, 1)\n",
    "    df_image = None\n",
    "    for k, d in enumerate(dets):\n",
    "        # print(\"Detection {}: Left: {} Top: {} Right: {} Bottom: {}\".format(k, d.left(), d.top(), d.right(), d.bottom()))\n",
    "        f_width = abs(d.right() - d.left())\n",
    "        f_height = abs(d.bottom() - d.top())\n",
    "        # print('width:' + str(f_width) + ', height:' + str(f_height))\n",
    "        # Get the landmarks/parts for the face in box d.\n",
    "        shape = predictor(img, d)\n",
    "        # print(\"Part 0: {}, Part 1: {} ...\".format(shape.part(0), shape.part(1)))\n",
    "        face_shape = {}\n",
    "        for i in range(0, 67):\n",
    "            for j in range(i + 1, 68):\n",
    "                face_shape[str(i) + '_' + str(j) + '_x'] = abs(shape.part(i).x - shape.part(j).x) / f_width\n",
    "                face_shape[str(i) + '_' + str(j) + '_y'] = abs(shape.part(i).y - shape.part(j).y) / f_height\n",
    "                # print(str(i) + '_' + str(j))\n",
    "        # shape_size.append(face_shape)\n",
    "        df_image = pd.DataFrame.from_dict([face_shape])\n",
    "        break\n",
    "    return df_image"
   ]
  },
  {
   "cell_type": "code",
   "execution_count": null,
   "metadata": {},
   "outputs": [],
   "source": [
    "def predict(f):\n",
    "    global detector, predictor, model\n",
    "    #shape_size = []\n",
    "    img = dlib.load_rgb_image(f)\n",
    "    dets = detector(img, 1)\n",
    "    for k, d in enumerate(dets):\n",
    "        #print(\"Detection {}: Left: {} Top: {} Right: {} Bottom: {}\".format(k, d.left(), d.top(), d.right(), d.bottom()))\n",
    "        f_width = abs(d.right() - d.left())\n",
    "        f_height = abs(d.bottom() - d.top())\n",
    "        #print('width:' + str(f_width) + ', height:' + str(f_height))\n",
    "        # Get the landmarks/parts for the face in box d.\n",
    "        shape = predictor(img, d)\n",
    "        #print(\"Part 0: {}, Part 1: {} ...\".format(shape.part(0), shape.part(1)))\n",
    "        face_shape = {}\n",
    "        for i in range(0, 67):\n",
    "            for j in range(i+1, 68):\n",
    "                face_shape[str(i) + '_' + str(j) + '_x'] = abs(shape.part(i).x - shape.part(j).x)/f_width\n",
    "                face_shape[str(i) + '_' + str(j) + '_y'] = abs(shape.part(i).y - shape.part(j).y)/f_height\n",
    "                #print(str(i) + '_' + str(j))\n",
    "        #shape_size.append(face_shape)\n",
    "        df_image = pd.DataFrame.from_dict([face_shape])\n",
    "        #print(df_image.columns)\n",
    "        pred = model.predict(df_image)\n",
    "        break\n",
    "    return pred"
   ]
  },
  {
   "cell_type": "code",
   "execution_count": null,
   "metadata": {},
   "outputs": [],
   "source": [
    "test = \"data/t1.jpg\"\n",
    "mode = 'lime'\n",
    "score = predict(test)\n",
    "# result = model.predict(df_input)\n",
    "print('beauty score:' + str(score))\n",
    "X_test = prepare_input(test)\n",
    "y_test = model.predict(prepare_input(test))"
   ]
  },
  {
   "cell_type": "code",
   "execution_count": null,
   "metadata": {},
   "outputs": [],
   "source": [
    "lime = LimeTabular(predict_fn=model.predict, data=df_input, random_state=1)\n",
    "#%%Pick the instances to explain, optionally pass in labels if you have them\n",
    "lime_local = lime.explain_local(X_test, y_test, name='LIME')\n",
    "show(lime_local)"
   ]
  }
 ],
 "metadata": {},
 "nbformat": 4,
 "nbformat_minor": 2
}
