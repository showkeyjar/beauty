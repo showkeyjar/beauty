{
 "cells": [
  {
   "cell_type": "code",
   "execution_count": 2,
   "metadata": {},
   "outputs": [],
   "source": [
    "import numpy as np\n",
    "from skimage.transform import rotate\n",
    "from skimage.feature import local_binary_pattern\n",
    "from skimage import data\n",
    "from skimage.color import label2rgb\n",
    "import matplotlib.pyplot as plt"
   ]
  },
  {
   "cell_type": "code",
   "execution_count": 3,
   "metadata": {},
   "outputs": [],
   "source": [
    "radius = 3\n",
    "n_points = 8 * radius"
   ]
  },
  {
   "cell_type": "code",
   "execution_count": 4,
   "metadata": {},
   "outputs": [],
   "source": [
    "def overlay_labels(image, lbp, labels):\n",
    "    mask = np.logical_or.reduce([lbp == each for each in labels])\n",
    "    return label2rgb(mask, image=image, bg_label=0, alpha=0.5)\n",
    "\n",
    "\n",
    "def highlight_bars(bars, indexes):\n",
    "    for i in indexes:\n",
    "        bars[i].set_facecolor('r')"
   ]
  },
  {
   "cell_type": "code",
   "execution_count": 14,
   "metadata": {},
   "outputs": [],
   "source": [
    "image = data.coins()\n",
    "lbp = local_binary_pattern(image, n_points, radius, 'ror')"
   ]
  },
  {
   "cell_type": "code",
   "execution_count": 6,
   "metadata": {},
   "outputs": [],
   "source": [
    "def hist(ax, lbp):\n",
    "    n_bins = int(lbp.max() + 1)\n",
    "    return ax.hist(lbp.ravel(), density=True, bins=n_bins, range=(0, n_bins),\n",
    "                   facecolor='0.5')"
   ]
  },
  {
   "cell_type": "code",
   "execution_count": null,
   "metadata": {},
   "outputs": [],
   "source": [
    "# plot histograms of LBP of textures\n",
    "fig, (ax_img, ax_hist) = plt.subplots(nrows=2, ncols=3, figsize=(9, 6))\n",
    "plt.gray()\n",
    "\n",
    "titles = ('edge', 'flat', 'corner')\n",
    "w = width = radius - 1\n",
    "edge_labels = range(n_points // 2 - w, n_points // 2 + w + 1)\n",
    "flat_labels = list(range(0, w + 1)) + list(range(n_points - w, n_points + 2))\n",
    "i_14 = n_points // 4            # 1/4th of the histogram\n",
    "i_34 = 3 * (n_points // 4)      # 3/4th of the histogram\n",
    "corner_labels = (list(range(i_14 - w, i_14 + w + 1)) +\n",
    "                 list(range(i_34 - w, i_34 + w + 1)))\n",
    "\n",
    "label_sets = (edge_labels, flat_labels, corner_labels)\n",
    "\n",
    "for ax, labels in zip(ax_img, label_sets):\n",
    "    ax.imshow(overlay_labels(image, lbp, labels))\n",
    "\n",
    "for ax, labels, name in zip(ax_hist, label_sets, titles):\n",
    "    counts, _, bars = hist(ax, lbp)\n",
    "    highlight_bars(bars, labels)\n",
    "    ax.set_ylim(top=np.max(counts[:-1]))\n",
    "    ax.set_xlim(right=n_points + 2)\n",
    "    ax.set_title(name)\n",
    "\n",
    "ax_hist[0].set_ylabel('Percentage')\n",
    "for ax in ax_img:\n",
    "    ax.axis('off')"
   ]
  },
  {
   "cell_type": "code",
   "execution_count": 6,
   "metadata": {},
   "outputs": [],
   "source": [
    "import os\n",
    "import cv2\n",
    "import dlib\n",
    "import glob\n",
    "import numpy as np\n",
    "import pandas as pd\n",
    "from skimage.transform import integral_image\n",
    "from skimage.feature import local_binary_pattern\n",
    "from skimage.feature import multiblock_lbp\n",
    "from deepgaze.color_detection import BackProjectionColorDetector\n",
    "from deepgaze.color_detection import RangeColorDetector"
   ]
  },
  {
   "cell_type": "code",
   "execution_count": 7,
   "metadata": {},
   "outputs": [],
   "source": [
    "predictor_path = \"../model/shape_predictor_68_face_landmarks.dat\"\n",
    "faces_folder_path = \"/data/face/Data_Collection/\"\n",
    "\n",
    "detector = dlib.get_frontal_face_detector()\n",
    "predictor = dlib.shape_predictor(predictor_path)"
   ]
  },
  {
   "cell_type": "code",
   "execution_count": 3,
   "metadata": {},
   "outputs": [],
   "source": [
    "def get_one_face(img):\n",
    "    face = None\n",
    "    face_dets = detector(img, 1)\n",
    "    print(\"Number of faces detected: {}\".format(len(face_dets)))\n",
    "    if len(face_dets) > 0:\n",
    "        face = face_dets[0]\n",
    "    return face"
   ]
  },
  {
   "cell_type": "code",
   "execution_count": 1,
   "metadata": {},
   "outputs": [],
   "source": [
    "def lbph_extract(img, d=None, eps=1e-7):\n",
    "    if d is None:\n",
    "        d = get_one_face(img)\n",
    "    no_points = 24\n",
    "    radius = 8\n",
    "    d_top = d.top()\n",
    "    d_bottom = d.bottom()\n",
    "    d_left = d.left()\n",
    "    d_right = d.right()\n",
    "    cropped = img[d_top:d_bottom, d_left:d_right]\n",
    "    im_gray = cv2.cvtColor(cropped, cv2.COLOR_BGR2GRAY)\n",
    "    lbp = local_binary_pattern(im_gray, no_points, radius, method='uniform')\n",
    "    (histogram, _) = np.histogram(lbp.ravel(),\n",
    "                                  bins=np.arange(0, no_points + 3),\n",
    "                                  range=(0, no_points + 2))\n",
    "    # now we need to normalise the histogram so that the total sum=1\n",
    "    histogram = histogram.astype(\"float\")\n",
    "    histogram /= (histogram.sum() + eps)\n",
    "    return histogram"
   ]
  },
  {
   "cell_type": "code",
   "execution_count": 9,
   "metadata": {},
   "outputs": [],
   "source": [
    "img = dlib.load_rgb_image('../img/t1.jpg')"
   ]
  },
  {
   "cell_type": "code",
   "execution_count": 11,
   "metadata": {},
   "outputs": [
    {
     "name": "stdout",
     "output_type": "stream",
     "text": [
      "Number of faces detected: 1\n"
     ]
    }
   ],
   "source": [
    "hists = lbph_extract(img)"
   ]
  },
  {
   "cell_type": "code",
   "execution_count": 16,
   "metadata": {},
   "outputs": [
    {
     "data": {
      "text/plain": [
       "array([0.01473077, 0.01317401, 0.00568007, 0.00536217, 0.00640936,\n",
       "       0.00841959, 0.00847569, 0.01100951, 0.01521229, 0.02216862,\n",
       "       0.03400559, 0.05023235, 0.06129328, 0.05616018, 0.03723131,\n",
       "       0.02513721, 0.01629688, 0.01229512, 0.00934523, 0.00815311,\n",
       "       0.00627378, 0.00581564, 0.00717605, 0.0166849 , 0.01747029,\n",
       "       0.52578703])"
      ]
     },
     "execution_count": 16,
     "metadata": {},
     "output_type": "execute_result"
    }
   ],
   "source": [
    "hists"
   ]
  },
  {
   "cell_type": "code",
   "execution_count": 13,
   "metadata": {},
   "outputs": [],
   "source": [
    "img1 = dlib.load_rgb_image('../img/screenshots/screenshot_0_2019-09-03-16-44-28.jpg')"
   ]
  },
  {
   "cell_type": "code",
   "execution_count": 14,
   "metadata": {},
   "outputs": [
    {
     "name": "stdout",
     "output_type": "stream",
     "text": [
      "Number of faces detected: 1\n"
     ]
    }
   ],
   "source": [
    "hists1 = lbph_extract(img1)"
   ]
  },
  {
   "cell_type": "code",
   "execution_count": 17,
   "metadata": {},
   "outputs": [
    {
     "data": {
      "text/plain": [
       "array([0.03196901, 0.02442479, 0.01566655, 0.01222685, 0.01118626,\n",
       "       0.01352758, 0.01292057, 0.01610013, 0.0165337 , 0.01754538,\n",
       "       0.02402012, 0.03497514, 0.04575673, 0.03751879, 0.02323968,\n",
       "       0.01685166, 0.01057926, 0.01020349, 0.00927853, 0.01297838,\n",
       "       0.01297838, 0.01789224, 0.01676494, 0.01849925, 0.01757429,\n",
       "       0.5187883 ])"
      ]
     },
     "execution_count": 17,
     "metadata": {},
     "output_type": "execute_result"
    }
   ],
   "source": [
    "hists1"
   ]
  },
  {
   "cell_type": "code",
   "execution_count": null,
   "metadata": {},
   "outputs": [],
   "source": []
  }
 ],
 "metadata": {
  "kernelspec": {
   "display_name": "py3 facsvatar",
   "language": "python",
   "name": "face"
  },
  "language_info": {
   "codemirror_mode": {
    "name": "ipython",
    "version": 3
   },
   "file_extension": ".py",
   "mimetype": "text/x-python",
   "name": "python",
   "nbconvert_exporter": "python",
   "pygments_lexer": "ipython3",
   "version": "3.6.7"
  }
 },
 "nbformat": 4,
 "nbformat_minor": 4
}
