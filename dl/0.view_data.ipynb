{
 "cells": [
  {
   "cell_type": "code",
   "execution_count": 16,
   "metadata": {
    "collapsed": true,
    "pycharm": {
     "is_executing": false
    }
   },
   "outputs": [],
   "source": [
    "import cv2\n",
    "import numpy as np\n",
    "import pandas as pd\n",
    "import tensorflow as tf"
   ]
  },
  {
   "cell_type": "code",
   "execution_count": 4,
   "outputs": [],
   "source": [
    "data = pd.read_excel('G:/data/SCUT-FBP5500_v2/All_Ratings.xlsx', None)"
   ],
   "metadata": {
    "collapsed": false,
    "pycharm": {
     "name": "#%%\n",
     "is_executing": false
    }
   }
  },
  {
   "cell_type": "code",
   "execution_count": 5,
   "outputs": [
    {
     "data": {
      "text/plain": "{'ALL':         Rater   Filename  Rating  original Rating\n 0           1    CF1.jpg       3              NaN\n 1           1   CF10.jpg       3              NaN\n 2           1  CF100.jpg       1              NaN\n 3           1  CF101.jpg       2              NaN\n 4           1  CF102.jpg       3              NaN\n ...       ...        ...     ...              ...\n 329995     60  AM995.jpg       2              NaN\n 329996     60  AM996.jpg       2              NaN\n 329997     60  AM997.jpg       3              NaN\n 329998     60  AM998.jpg       3              NaN\n 329999     60  AM999.jpg       2              NaN\n \n [330000 rows x 4 columns],\n 'Caucasian_Female':        Rater   Filename  Rating original Rating\n 0          1    CF1.jpg       3             NaN\n 1          2    CF1.jpg       4               5\n 2          3    CF1.jpg       4             NaN\n 3          4    CF1.jpg       5             NaN\n 4          5    CF1.jpg       4             NaN\n ...      ...        ...     ...             ...\n 44995     56  CF750.jpg       4             NaN\n 44996     57  CF750.jpg       4             NaN\n 44997     58  CF750.jpg       3             NaN\n 44998     59  CF750.jpg       3             NaN\n 44999     60  CF750.jpg       4             NaN\n \n [45000 rows x 4 columns],\n 'Caucasian_Male':        Rater   Filename  Rating  original Rating\n 0          1    CM1.jpg       1              NaN\n 1          2    CM1.jpg       3              3.0\n 2          3    CM1.jpg       3              NaN\n 3          4    CM1.jpg       2              NaN\n 4          5    CM1.jpg       3              NaN\n ...      ...        ...     ...              ...\n 44995     56  CM750.jpg       4              NaN\n 44996     57  CM750.jpg       3              NaN\n 44997     58  CM750.jpg       2              NaN\n 44998     59  CM750.jpg       3              NaN\n 44999     60  CM750.jpg       4              NaN\n \n [45000 rows x 4 columns],\n 'Asian_Female':         Rater    Filename  Rating  original Rating\n 0           1     AF1.jpg       2              NaN\n 1           2     AF1.jpg       3              3.0\n 2           3     AF1.jpg       2              NaN\n 3           4     AF1.jpg       1              NaN\n 4           5     AF1.jpg       3              NaN\n ...       ...         ...     ...              ...\n 119995     56  AF2000.jpg       3              NaN\n 119996     57  AF2000.jpg       4              NaN\n 119997     58  AF2000.jpg       3              NaN\n 119998     59  AF2000.jpg       4              NaN\n 119999     60  AF2000.jpg       5              NaN\n \n [120000 rows x 4 columns],\n 'Asian_Male':         Rater   Filename  Rating  original Rating\n 0           1    AM1.jpg       4              NaN\n 1           2    AM1.jpg       4              4.0\n 2           3    AM1.jpg       5              NaN\n 3           4    AM1.jpg       3              NaN\n 4           5    AM1.jpg       4              NaN\n ...       ...        ...     ...              ...\n 119995     56  AM999.jpg       2              NaN\n 119996     57  AM999.jpg       1              NaN\n 119997     58  AM999.jpg       2              NaN\n 119998     59  AM999.jpg       3              NaN\n 119999     60  AM999.jpg       2              NaN\n \n [120000 rows x 4 columns]}"
     },
     "metadata": {},
     "output_type": "execute_result",
     "execution_count": 5
    }
   ],
   "source": [
    "data"
   ],
   "metadata": {
    "collapsed": false,
    "pycharm": {
     "name": "#%%\n",
     "is_executing": false
    }
   }
  },
  {
   "cell_type": "code",
   "execution_count": 6,
   "outputs": [],
   "source": [
    "df_asian = data['Asian_Female']\n"
   ],
   "metadata": {
    "collapsed": false,
    "pycharm": {
     "name": "#%%\n",
     "is_executing": false
    }
   }
  },
  {
   "cell_type": "code",
   "execution_count": 7,
   "outputs": [
    {
     "data": {
      "text/plain": "Index(['Rater', 'Filename', 'Rating', 'original Rating'], dtype='object')"
     },
     "metadata": {},
     "output_type": "execute_result",
     "execution_count": 7
    }
   ],
   "source": [
    "df_asian.columns"
   ],
   "metadata": {
    "collapsed": false,
    "pycharm": {
     "name": "#%%\n",
     "is_executing": false
    }
   }
  },
  {
   "cell_type": "code",
   "execution_count": 8,
   "outputs": [],
   "source": [
    "df_data = df_asian.groupby('Filename').agg(np.mean)"
   ],
   "metadata": {
    "collapsed": false,
    "pycharm": {
     "name": "#%%\n",
     "is_executing": false
    }
   }
  },
  {
   "cell_type": "code",
   "execution_count": 9,
   "outputs": [],
   "source": [
    "df_data['file']=df_data.index\n"
   ],
   "metadata": {
    "collapsed": false,
    "pycharm": {
     "name": "#%%\n",
     "is_executing": false
    }
   }
  },
  {
   "cell_type": "code",
   "execution_count": 12,
   "outputs": [
    {
     "data": {
      "text/plain": "<matplotlib.axes._subplots.AxesSubplot at 0x9dff0f0>"
     },
     "metadata": {},
     "output_type": "execute_result",
     "execution_count": 12
    },
    {
     "data": {
      "text/plain": "<Figure size 432x288 with 1 Axes>",
      "image/png": "[encoded data removed]"
     },
     "metadata": {
      "needs_background": "light"
     },
     "output_type": "display_data"
    }
   ],
   "source": [
    "df_data['Rating'].hist()\n",
    "\n"
   ],
   "metadata": {
    "collapsed": false,
    "pycharm": {
     "name": "#%%\n",
     "is_executing": false
    }
   }
  },
  {
   "cell_type": "code",
   "execution_count": 12,
   "outputs": [
    {
     "data": {
      "text/plain": "'AF1.jpg'"
     },
     "metadata": {},
     "output_type": "execute_result",
     "execution_count": 12
    }
   ],
   "source": [
    "df_data['file'][0]\n"
   ],
   "metadata": {
    "collapsed": false,
    "pycharm": {
     "name": "#%%\n",
     "is_executing": false
    }
   }
  },
  {
   "cell_type": "code",
   "execution_count": 13,
   "outputs": [],
   "source": [
    "img_path = \"G:/data/SCUT-FBP5500_v2/Images/\" + df_data['file'][0]"
   ],
   "metadata": {
    "collapsed": false,
    "pycharm": {
     "name": "#%%\n",
     "is_executing": false
    }
   }
  },
  {
   "cell_type": "code",
   "execution_count": 15,
   "outputs": [],
   "source": [
    "img_data = cv2.imread(img_path)\n",
    "\n"
   ],
   "metadata": {
    "collapsed": false,
    "pycharm": {
     "name": "#%%\n",
     "is_executing": false
    }
   }
  },
  {
   "cell_type": "code",
   "execution_count": 17,
   "outputs": [],
   "source": [
    "data_tf = tf.convert_to_tensor(img_data, np.float64)\n",
    "\n"
   ],
   "metadata": {
    "collapsed": false,
    "pycharm": {
     "name": "#%%\n",
     "is_executing": false
    }
   }
  },
  {
   "cell_type": "code",
   "execution_count": 18,
   "outputs": [],
   "source": [
    "def read_img(x):\n",
    "    img_path = \"G:/data/SCUT-FBP5500_v2/Images/\" + x\n",
    "    # gray = cv2.cvtColor(img_data, cv2.COLOR_BGR2GRAY)\n",
    "    # gray = gray.reshape(224, 224, 1)\n",
    "    # img_data = image.load_img(img_path, target_size=(224, 224))\n",
    "    # x = image.img_to_array(img_data)\n",
    "    try:\n",
    "        data_ts = cv2.imread(img_path)\n",
    "        # data_tf = tf.convert_to_tensor(img_data, np.float64)\n",
    "        # data_ts = np.array(data_tf)\n",
    "    except Exception as e:\n",
    "        print(e)\n",
    "        data_ts = None\n",
    "    return data_ts\n",
    "\n"
   ],
   "metadata": {
    "collapsed": false,
    "pycharm": {
     "name": "#%%\n",
     "is_executing": false
    }
   }
  },
  {
   "cell_type": "code",
   "execution_count": 19,
   "outputs": [],
   "source": [
    "df_data['X'] = df_data['file'].apply(read_img)"
   ],
   "metadata": {
    "collapsed": false,
    "pycharm": {
     "name": "#%%\n",
     "is_executing": false
    }
   }
  },
  {
   "cell_type": "code",
   "execution_count": 20,
   "outputs": [
    {
     "data": {
      "text/plain": "Filename\nAF1.jpg       [[[255, 255, 255], [255, 255, 255], [255, 255,...\nAF10.jpg      [[[255, 255, 255], [255, 255, 255], [255, 255,...\nAF100.jpg     [[[255, 255, 255], [255, 255, 255], [255, 255,...\nAF1000.jpg    [[[255, 255, 255], [255, 255, 255], [255, 255,...\nAF1001.jpg    [[[255, 255, 255], [255, 255, 255], [255, 255,...\n                                    ...                        \nAF995.jpg     [[[255, 255, 255], [255, 255, 255], [255, 255,...\nAF996.jpg     [[[255, 255, 255], [255, 255, 255], [255, 255,...\nAF997.jpg     [[[255, 255, 255], [255, 255, 255], [255, 255,...\nAF998.jpg     [[[255, 255, 255], [255, 255, 255], [255, 255,...\nAF999.jpg     [[[255, 255, 255], [255, 255, 255], [255, 255,...\nName: X, Length: 2000, dtype: object"
     },
     "metadata": {},
     "output_type": "execute_result",
     "execution_count": 20
    }
   ],
   "source": [
    "df_data['X']"
   ],
   "metadata": {
    "collapsed": false,
    "pycharm": {
     "name": "#%%\n",
     "is_executing": false
    }
   }
  },
  {
   "cell_type": "code",
   "execution_count": 21,
   "outputs": [],
   "source": [
    "df_data.dropna(inplace=True)"
   ],
   "metadata": {
    "collapsed": false,
    "pycharm": {
     "name": "#%%\n",
     "is_executing": false
    }
   }
  },
  {
   "cell_type": "code",
   "execution_count": 24,
   "outputs": [
    {
     "data": {
      "text/plain": "2000"
     },
     "metadata": {},
     "output_type": "execute_result",
     "execution_count": 24
    }
   ],
   "source": [
    "len(df_data)\n"
   ],
   "metadata": {
    "collapsed": false,
    "pycharm": {
     "name": "#%%\n",
     "is_executing": false
    }
   }
  },
  {
   "cell_type": "code",
   "execution_count": 25,
   "outputs": [],
   "source": [
    "X = np.array(df_data['X'].to_list())\n",
    "Y = np.array(df_data['Rating'].to_list())"
   ],
   "metadata": {
    "collapsed": false,
    "pycharm": {
     "name": "#%%\n",
     "is_executing": false
    }
   }
  },
  {
   "cell_type": "code",
   "execution_count": 26,
   "outputs": [],
   "source": [
    "from sklearn.model_selection import train_test_split"
   ],
   "metadata": {
    "collapsed": false,
    "pycharm": {
     "name": "#%%\n",
     "is_executing": false
    }
   }
  },
  {
   "cell_type": "code",
   "execution_count": 27,
   "outputs": [],
   "source": [
    "x_train, y_train, x_test, y_test = train_test_split(X, Y, test_size=0.3, random_state=42)"
   ],
   "metadata": {
    "collapsed": false,
    "pycharm": {
     "name": "#%%\n",
     "is_executing": false
    }
   }
  },
  {
   "cell_type": "code",
   "execution_count": 29,
   "outputs": [
    {
     "data": {
      "text/plain": "(1400, 350, 350, 3)"
     },
     "metadata": {},
     "output_type": "execute_result",
     "execution_count": 29
    }
   ],
   "source": [
    "x_train.shape\n"
   ],
   "metadata": {
    "collapsed": false,
    "pycharm": {
     "name": "#%%\n",
     "is_executing": false
    }
   }
  },
  {
   "cell_type": "code",
   "execution_count": 30,
   "outputs": [
    {
     "data": {
      "text/plain": "(1400,)"
     },
     "metadata": {},
     "output_type": "execute_result",
     "execution_count": 30
    }
   ],
   "source": [
    "x_test.shape"
   ],
   "metadata": {
    "collapsed": false,
    "pycharm": {
     "name": "#%%\n",
     "is_executing": false
    }
   }
  },
  {
   "cell_type": "code",
   "execution_count": 31,
   "outputs": [],
   "source": [
    "gen_checkpoint = tf.keras.callbacks.ModelCheckpoint(filepath=\"../model/keras_checkpoint.h5\")"
   ],
   "metadata": {
    "collapsed": false,
    "pycharm": {
     "name": "#%%\n",
     "is_executing": false
    }
   }
  },
  {
   "cell_type": "code",
   "execution_count": 33,
   "outputs": [],
   "source": [
    "import autokeras as ak"
   ],
   "metadata": {
    "collapsed": false,
    "pycharm": {
     "name": "#%%\n",
     "is_executing": false
    }
   }
  },
  {
   "cell_type": "code",
   "execution_count": 34,
   "outputs": [],
   "source": [
    "clf = ak.ImageClassifier()"
   ],
   "metadata": {
    "collapsed": false,
    "pycharm": {
     "name": "#%%\n",
     "is_executing": false
    }
   }
  },
  {
   "cell_type": "code",
   "execution_count": null,
   "outputs": [
    {
     "name": "stdout",
     "text": [
      "Train for 50 steps, validate for 13 steps\n",
      "Epoch 1/1000\n"
     ],
     "output_type": "stream"
    }
   ],
   "source": [
    "clf.fit(X, Y, callbacks=[gen_checkpoint])"
   ],
   "metadata": {
    "collapsed": false,
    "pycharm": {
     "name": "#%%\n",
     "is_executing": true
    }
   }
  },
  {
   "cell_type": "code",
   "execution_count": null,
   "outputs": [],
   "source": [
    "\n"
   ],
   "metadata": {
    "collapsed": false,
    "pycharm": {
     "name": "#%%\n"
    }
   }
  }
 ],
 "metadata": {
  "kernelspec": {
   "name": "pycharm-7d613aba",
   "language": "python",
   "display_name": "PyCharm (beauty)"
  },
  "language_info": {
   "codemirror_mode": {
    "name": "ipython",
    "version": 2
   },
   "file_extension": ".py",
   "mimetype": "text/x-python",
   "name": "python",
   "nbconvert_exporter": "python",
   "pygments_lexer": "ipython2",
   "version": "2.7.6"
  },
  "pycharm": {
   "stem_cell": {
    "cell_type": "raw",
    "source": [],
    "metadata": {
     "collapsed": false
    }
   }
  }
 },
 "nbformat": 4,
 "nbformat_minor": 0
}